{
  "nbformat": 4,
  "nbformat_minor": 0,
  "metadata": {
    "colab": {
      "provenance": [],
      "collapsed_sections": [
        "4yQ9QCIhsShu",
        "qxkjTvxIhBO-",
        "mp7IZ6t1UX_m"
      ],
      "include_colab_link": true
    },
    "kernelspec": {
      "name": "python3",
      "display_name": "Python 3"
    },
    "language_info": {
      "name": "python"
    }
  },
  "cells": [
    {
      "cell_type": "markdown",
      "metadata": {
        "id": "view-in-github",
        "colab_type": "text"
      },
      "source": [
        "<a href=\"https://colab.research.google.com/github/smartyro/FinalProject308/blob/main/Final_Project_CSC_369.ipynb\" target=\"_parent\"><img src=\"https://colab.research.google.com/assets/colab-badge.svg\" alt=\"Open In Colab\"/></a>"
      ]
    },
    {
      "cell_type": "markdown",
      "metadata": {
        "id": "4yQ9QCIhsShu"
      },
      "source": [
        "# Sophie Martyrossian - CSC 369 Final Project\n",
        "\n",
        "## An analysis of Letterboxd Films for a specific genre, actor, and language.\n",
        "\n",
        "### Data Used:\n",
        "#### [Letterboxd](https://letterboxd.com/) is a social media platofrm based used by movie lovers. The app and website allows users to share, rate, bookmark, and keep track of movies, as well as connect with friends.\n",
        "#### I found a [dataset](https://www.kaggle.com/datasets/whistlebug23/letterboxd-films) on Kaggle with 23,750 movies on this platform. Since this is a huge dataset, I wanted to find out which movies for a particular genre, actor, and language had the best reviews, as well as any possible correlations.\n",
        "\n",
        "### Structure:\n",
        "#### **LetterboxdAllFilms.csv**\n",
        "#### - Film Link\n",
        "#### - ID\n",
        "#### - Film Base Link\n",
        "#### - Film Ratings Link\n",
        "#### - Film Title\n",
        "#### - Film Year\n",
        "#### - Runtime (Minutes)\n",
        "#### - Director 1\n",
        "#### - Director 2\n",
        "#### - Cast (1-7)\n",
        "#### - Role (1-7)\n",
        "#### - Studio (1-3)\n",
        "#### - Genre (1-5)\n",
        "#### - Language (1-2)\n",
        "#### - Country\n",
        "#### - Ratings (0.5 to 5 stars)\n",
        "#### - Average Rating (out of five)\n",
        "\n",
        "\n"
      ]
    },
    {
      "cell_type": "code",
      "metadata": {
        "id": "NoolY63aauhH",
        "colab": {
          "base_uri": "https://localhost:8080/"
        },
        "outputId": "c700d774-1e73-41cf-f5da-87f380646fb3"
      },
      "source": [
        "!pip install pyspark\n",
        "!pip install -U -q PyDrive\n",
        "!apt install openjdk-8-jdk-headless -qq\n",
        "import os\n",
        "os.environ[\"JAVA_HOME\"] = \"/usr/lib/jvm/java-8-openjdk-amd64\""
      ],
      "execution_count": null,
      "outputs": [
        {
          "output_type": "stream",
          "name": "stdout",
          "text": [
            "Collecting pyspark\n",
            "  Downloading pyspark-3.4.1.tar.gz (310.8 MB)\n",
            "\u001b[2K     \u001b[90m━━━━━━━━━━━━━━━━━━━━━━━━━━━━━━━━━━━━━━━\u001b[0m \u001b[32m310.8/310.8 MB\u001b[0m \u001b[31m3.4 MB/s\u001b[0m eta \u001b[36m0:00:00\u001b[0m\n",
            "\u001b[?25h  Preparing metadata (setup.py) ... \u001b[?25l\u001b[?25hdone\n",
            "Requirement already satisfied: py4j==0.10.9.7 in /usr/local/lib/python3.10/dist-packages (from pyspark) (0.10.9.7)\n",
            "Building wheels for collected packages: pyspark\n",
            "  Building wheel for pyspark (setup.py) ... \u001b[?25l\u001b[?25hdone\n",
            "  Created wheel for pyspark: filename=pyspark-3.4.1-py2.py3-none-any.whl size=311285397 sha256=cbdd73ae8c3869e2f03d8bdcdab444d88e1659f222b05a1d8aa27185d6d41db0\n",
            "  Stored in directory: /root/.cache/pip/wheels/0d/77/a3/ff2f74cc9ab41f8f594dabf0579c2a7c6de920d584206e0834\n",
            "Successfully built pyspark\n",
            "Installing collected packages: pyspark\n",
            "Successfully installed pyspark-3.4.1\n",
            "The following additional packages will be installed:\n",
            "  libxtst6 openjdk-8-jre-headless\n",
            "Suggested packages:\n",
            "  openjdk-8-demo openjdk-8-source libnss-mdns fonts-dejavu-extra\n",
            "  fonts-ipafont-gothic fonts-ipafont-mincho fonts-wqy-microhei\n",
            "  fonts-wqy-zenhei fonts-indic\n",
            "The following NEW packages will be installed:\n",
            "  libxtst6 openjdk-8-jdk-headless openjdk-8-jre-headless\n",
            "0 upgraded, 3 newly installed, 0 to remove and 9 not upgraded.\n",
            "Need to get 39.7 MB of archives.\n",
            "After this operation, 144 MB of additional disk space will be used.\n",
            "Selecting previously unselected package libxtst6:amd64.\n",
            "(Reading database ... 120493 files and directories currently installed.)\n",
            "Preparing to unpack .../libxtst6_2%3a1.2.3-1build4_amd64.deb ...\n",
            "Unpacking libxtst6:amd64 (2:1.2.3-1build4) ...\n",
            "Selecting previously unselected package openjdk-8-jre-headless:amd64.\n",
            "Preparing to unpack .../openjdk-8-jre-headless_8u372-ga~us1-0ubuntu1~22.04_amd64.deb ...\n",
            "Unpacking openjdk-8-jre-headless:amd64 (8u372-ga~us1-0ubuntu1~22.04) ...\n",
            "Selecting previously unselected package openjdk-8-jdk-headless:amd64.\n",
            "Preparing to unpack .../openjdk-8-jdk-headless_8u372-ga~us1-0ubuntu1~22.04_amd64.deb ...\n",
            "Unpacking openjdk-8-jdk-headless:amd64 (8u372-ga~us1-0ubuntu1~22.04) ...\n",
            "Setting up libxtst6:amd64 (2:1.2.3-1build4) ...\n",
            "Setting up openjdk-8-jre-headless:amd64 (8u372-ga~us1-0ubuntu1~22.04) ...\n",
            "update-alternatives: using /usr/lib/jvm/java-8-openjdk-amd64/jre/bin/orbd to provide /usr/bin/orbd (orbd) in auto mode\n",
            "update-alternatives: using /usr/lib/jvm/java-8-openjdk-amd64/jre/bin/servertool to provide /usr/bin/servertool (servertool) in auto mode\n",
            "update-alternatives: using /usr/lib/jvm/java-8-openjdk-amd64/jre/bin/tnameserv to provide /usr/bin/tnameserv (tnameserv) in auto mode\n",
            "Setting up openjdk-8-jdk-headless:amd64 (8u372-ga~us1-0ubuntu1~22.04) ...\n",
            "update-alternatives: using /usr/lib/jvm/java-8-openjdk-amd64/bin/clhsdb to provide /usr/bin/clhsdb (clhsdb) in auto mode\n",
            "update-alternatives: using /usr/lib/jvm/java-8-openjdk-amd64/bin/extcheck to provide /usr/bin/extcheck (extcheck) in auto mode\n",
            "update-alternatives: using /usr/lib/jvm/java-8-openjdk-amd64/bin/hsdb to provide /usr/bin/hsdb (hsdb) in auto mode\n",
            "update-alternatives: using /usr/lib/jvm/java-8-openjdk-amd64/bin/idlj to provide /usr/bin/idlj (idlj) in auto mode\n",
            "update-alternatives: using /usr/lib/jvm/java-8-openjdk-amd64/bin/javah to provide /usr/bin/javah (javah) in auto mode\n",
            "update-alternatives: using /usr/lib/jvm/java-8-openjdk-amd64/bin/jhat to provide /usr/bin/jhat (jhat) in auto mode\n",
            "update-alternatives: using /usr/lib/jvm/java-8-openjdk-amd64/bin/jsadebugd to provide /usr/bin/jsadebugd (jsadebugd) in auto mode\n",
            "update-alternatives: using /usr/lib/jvm/java-8-openjdk-amd64/bin/native2ascii to provide /usr/bin/native2ascii (native2ascii) in auto mode\n",
            "update-alternatives: using /usr/lib/jvm/java-8-openjdk-amd64/bin/schemagen to provide /usr/bin/schemagen (schemagen) in auto mode\n",
            "update-alternatives: using /usr/lib/jvm/java-8-openjdk-amd64/bin/wsgen to provide /usr/bin/wsgen (wsgen) in auto mode\n",
            "update-alternatives: using /usr/lib/jvm/java-8-openjdk-amd64/bin/wsimport to provide /usr/bin/wsimport (wsimport) in auto mode\n",
            "update-alternatives: using /usr/lib/jvm/java-8-openjdk-amd64/bin/xjc to provide /usr/bin/xjc (xjc) in auto mode\n",
            "Processing triggers for libc-bin (2.35-0ubuntu3.1) ...\n"
          ]
        }
      ]
    },
    {
      "cell_type": "code",
      "metadata": {
        "id": "XKUgYFX9olK5"
      },
      "source": [
        "from pyspark import SparkContext, SparkConf\n",
        "from pyspark.sql import SparkSession, SQLContext, Window\n",
        "from pyspark.sql import types as sparktypes\n",
        "from pyspark.sql.functions import col, count, avg, format_number, round, desc\n",
        "\n",
        "sc = SparkContext()\n",
        "spark = SparkSession(sc)\n"
      ],
      "execution_count": null,
      "outputs": []
    },
    {
      "cell_type": "markdown",
      "metadata": {
        "id": "CZ2zn6ezgTmF"
      },
      "source": [
        "# Questions\n",
        "\n",
        "### With the release of Oppenheimer and Barbie last weekend, I wanted to compare ratings for films based on a variety of factors, such as language, genre, and actors.\n",
        "\n",
        "## I chose the following questions:\n",
        "\n",
        "#### 1. What are the top 20 highest rated films on Letterboxd?\n",
        "#### 2. What are the top 20 directors on Letterboxd?\n",
        "#### 3. Which actors star in the most movies with a rating of higher than 4 stars?\n",
        "#### 4. What are the top 20 languages on Letterboxd, sorted by number of movies?\n",
        "#### 5. What are the top 10 movies in the top 5 languages?\n",
        "#### 6. What are the top 10 movies in Animation, Drama, Comedy, Thriller, and Adventure?\n",
        "#### 7. Is there a relationship between genre and average ratings?\n",
        "#### 8. What is the correlation coefficient between runtime and average ratings?\n",
        "#### 9. What is the correlation coefficient between total reviews and average ratings?\n",
        "#### 10. What is the correlation coefficient between release year and average ratings?\n"
      ]
    },
    {
      "cell_type": "markdown",
      "metadata": {
        "id": "7ca1vYvspy6_"
      },
      "source": [
        "# Format of Data\n",
        "\n",
        "Below is a DataFrame of the Letterboxd films file."
      ]
    },
    {
      "cell_type": "code",
      "metadata": {
        "id": "WuD2cLn6p_Ob",
        "colab": {
          "base_uri": "https://localhost:8080/"
        },
        "outputId": "33f9c3b0-dad5-4642-8615-ca5dab55978e"
      },
      "source": [
        "df = spark.read.csv(\"LetterboxdAllFilms.csv\", header=True, inferSchema=True)\n",
        "df.show()"
      ],
      "execution_count": null,
      "outputs": [
        {
          "output_type": "stream",
          "name": "stdout",
          "text": [
            "+--------------------+----+--------------------+--------------------+--------------------+---------+-------+--------------------+--------------------+--------------------+--------------------+--------------------+-------------------+--------------------+---------------+--------------------+--------------------+------------------+---------------+--------------------+----------------+--------------------+--------------------+--------------------+--------------------+--------------------+---------------+---------+---------+-------+-------+----------+----------+------------------+---------+--------+-------------+--------+-------------+----------+---------------+---------+--------------+---------+----------------+\n",
            "|           Film.Link|  ID|      Film.Base.Link|   Film.Ratings.Link|          film.title|film.year|runtime|          director.1|          director.2|              cast.1|              role.1|              cast.2|             role.2|              cast.3|         role.3|              cast.4|              role.4|            cast.5|         role.5|              cast.6|          role.6|              cast.7|              role.7|            studio.1|            studio.2|            studio.3|        genre.1|  genre.2|  genre.3|genre.4|genre.5|language.1|language.2|           country|half.star|one.star|one.half.star|two.star|two.half.star|three.star|three.half.star|four.star|four.half.star|five.star|       AvgRating|\n",
            "+--------------------+----+--------------------+--------------------+--------------------+---------+-------+--------------------+--------------------+--------------------+--------------------+--------------------+-------------------+--------------------+---------------+--------------------+--------------------+------------------+---------------+--------------------+----------------+--------------------+--------------------+--------------------+--------------------+--------------------+---------------+---------+---------+-------+-------+----------+----------+------------------+---------+--------+-------------+--------+-------------+----------+---------------+---------+--------------+---------+----------------+\n",
            "|/film/00-schneide...|6845|https://letterbox...|https://letterbox...|00 Schneider - Ja...|     1994|     92|     Helge Schneider|Christoph Schling...|     Helge Schneider|00 Schneider / Ni...|    Helmut Körschgen|          Körschgen|       Andreas Kunze| Frau Schneider|   Otto Van den Berg|    Metulskies Vater|   Guenther Kordas| Zirkusdirektor|     Hotte Reichlich| Shorty Robinson|       Charlie Weiss|               Pilot|        Senator Film|                null|                null|         comedy|    crime|     null|   null|   null|    German|      null|           Germany|       22|      31|           22|      73|           79|       221|            243|      291|           111|      139| 3.4825487012987|\n",
            "|        /film/05-mm/|1156|https://letterbox...|https://letterbox...|              0.5 mm|     2014|    198|         Momoko Ando|                null|         Sakura Ando|                Sawa|    Junkichi Orimoto|      Shozo Kataoka|       Toshio Sakata|        Shigeru|    Masahiko Tsugawa|       Yoshio Makabe|       Akira Emoto| Takeshi Sasaki|     Mitsuko Kusabue|   Shizue Makabe|     Nozomi Tsuchiya|      Makoto Kataoka|       Zero Pictures|                null|                null|          drama|     null|     null|   null|   null|  Japanese|      null|             Japan|        2|       6|           10|      28|           27|        93|            154|      369|           193|      176|3.95841209829868|\n",
            "|/film/10-cloverfi...|5192|https://letterbox...|https://letterbox...| 10 Cloverfield Lane|     2016|    104|    Dan Trachtenberg|                null|        John Goodman|     Howard Stambler|Mary Elizabeth Wi...|           Michelle|  John Gallagher Jr.|  Emmett DeWitt|  Douglas M. Griffin|              Driver|     Suzanne Cryer|          Woman|      Bradley Cooper|     Ben (voice)|     Sumalee Montano|Voice on Radio (v...|           Bad Robot|                null|                null|science-fiction| thriller|   horror|  drama|   null|   English|      null|               USA|      778|    2194|         1704|    9067|        10756|     46895|          56936|    76804|         19467|    13714|3.58144262845394|\n",
            "|/film/10-rillingt...|2891|https://letterbox...|https://letterbox...| 10 Rillington Place|     1971|    106|   Richard Fleischer|                null|Richard Attenborough|       John Christie|           John Hurt|      Timothy Evans|         Judy Geeson|    Beryl Evans|         Pat Heywood|      Ethel Christie|      Isobel Black|          Alice|          Miss Riley|  Baby Geraldine|        André Morell|         Judge Lewis|   Columbia Pictures|   Filmways Pictures|Genesis Productio...|       thriller|    drama|    crime|   null|   null|   English|      null|                UK|        5|      11|            8|      62|          115|       558|            930|     1466|           404|      233|3.74815400843882|\n",
            "|/film/10-things-i...|1048|https://letterbox...|https://letterbox...|10 Things I Hate ...|     1999|     97|          Gil Junger|                null|        Heath Ledger|      Patrick Verona|        Julia Stiles| Katarina Stratford|Joseph Gordon-Levitt|  Cameron James|      Larisa Oleynik|    Bianca Stratford|   David Krumholtz| Michael Eckman|       Andrew Keegan|     Joey Donner|     Susan May Pratt|            Mandella|          Mad Chance| Jaret Entertainment|                null|         comedy|  romance|    drama|   null|   null|   English|    French|               USA|      473|    1436|         1428|    7368|         9792|     45845|          49693|    89600|         27360|    81869|3.95521876111591|\n",
            "|     /film/10-to-11/|5636|https://letterbox...|https://letterbox...|            10 to 11|     2009|    110|         Pelin Esmer|                null|         Nejat İşler|                 Ali|        Mithat Esmer|            Himself|        Laçin Ceylan|         Feride|      Tayanç Ayaydın|                Ömer|     Serkan Keskin|     Fotokopici|         Savaş Akova|            Ruhi|Nida Karabol Akdeniz|              Doctor|            Sinefilm|     Stromboli Films|  ARTE France Cinéma|          drama|     null|     null|   null|   null|   Turkish|      null|           Germany|        0|       7|           10|      36|           69|       315|            444|      435|            78|       70|3.55635245901639|\n",
            "|   /film/100-meters/|6585|https://letterbox...|https://letterbox...|          100 Meters|     2016|    108|      Marcel Barrena|                null|         Dani Rovira|               Ramón|   Alexandra Jiménez|               Inma|      Karra Elejalde|         Manolo|     Nausicaa Bonnín|             Ariadna| Maria de Medeiros|         Noelia|     David Verdaguer|           Mario|       Andrea Trepat|                null|   Castelao Pictures|              Filmax|                null|          drama|   comedy|     null|   null|   null|   Spanish|      null|             Spain|        5|      14|           22|      79|          112|       327|            371|      374|            99|      131|3.49641460234681|\n",
            "| /film/100-yen-love/|4533|https://letterbox...|https://letterbox...|        100 Yen Love|     2014|    113|       Masaharu Take|                null|         Sakura Ando|        Ichiko Saito|       Hirofumi Arai|          Yuji Kano|         Saori Koide|   Fumiko Saito|      Miyoko Inagawa|       Yoshiko Saito|      Ito Yozaburo|    Takao Saito|      Tadashi Sakata|      Akira Noma|     Kaito Yoshimura|           Nishimura|     Studio Blue Co.|  Toei Video Company|                null|          drama|   comedy|     null|   null|   null|  Japanese|    German|             Japan|        2|       7|            9|      37|           84|       277|            416|      453|           129|      102|3.62467018469657|\n",
            "| /film/1000-mabrouk/|9689|https://letterbox...|https://letterbox...|        1000 Mabrouk|     2009|    115|   Ahmed Nader Galal|                null|         Ahmed Helmy|                null|   Laila Ezz El Arab|               null|  Mahmoud El Fishawy|           null|    Sara Abdulrahman|                null|    Hany El Sabagh|           null|        Rahma Hassan|            null|       Mohamed Farag|                null|               Egypt|                null|                null|          drama|   comedy|     null|   null|   null|      null|      null|            Arabic|        7|      19|           23|      71|           85|       317|            216|      202|            41|       76|3.30274361400189|\n",
            "|     /film/10000-km/|9436|https://letterbox...|https://letterbox...|           10,000 Km|     2014|     99|Carlos Marques-Ma...|                null|        Natalia Tena|                Alex|     David Verdaguer|              Sergi|                null|           null|                null|                null|              null|           null|                null|            null|                null|                null|Broad Green Pictures|            LA Panda|                 TV3|        romance|    drama|     null|   null|   null|   Spanish|   Catalan|             Spain|       11|      31|           33|     118|          213|       560|            572|      473|           115|       69|3.32164009111617|\n",
            "|        /film/11-14/|9187|https://letterbox...|https://letterbox...|               11:14|     2003|     86|         Greg Marcks|                null|  Rachael Leigh Cook|               Cheri|        Hilary Swank|              Buzzy|        Shawn Hatosy|          Duffy|      Patrick Swayze|               Frank|      Henry Thomas|           Jack|     Barbara Hershey|           Norma|         Stark Sands|                 Tim|Media 8 Entertain...|       MDP Worldwide|          Firm Films|          drama| thriller|  mystery|  crime|   null|   English|   Spanish|            Canada|       20|      49|           76|     298|          502|      1450|           1657|     1250|           226|      154|3.33694121788103|\n",
            "|/film/12-08-east-...|4400|https://letterbox...|https://letterbox...|12:08 East of Buc...|     2006|     89|  Corneliu Porumboiu|                null|    Mircea Andreescu|     Emanoil Piscoci|       Teodor Corban|    Virgil Jderescu|         Ion Sapdaru|Tiberiu Mănescu|       Mirela Cioabă|      Doamna Mănescu|Luminița Gheorghiu|Doamna Jderescu|      Cristina Ciofu|            Vali|       Lucian Iftime|                Lica|          42 Km Film|                null|                null|         comedy|    drama|     null|   null|   null|  Romanian|      null|           Romania|        6|      12|           13|      70|          105|       360|            531|      658|           202|      141|3.63274547187798|\n",
            "|/film/12-and-hold...|7480|https://letterbox...|https://letterbox...|      12 and Holding|     2005|     90|      Michael Cuesta|                null|      Zoe Weizenbaum|        Malee Chuang|       Conor Donovan|Jacob / Rudy Carges|       Jesse Camacho| Leonard Fisher|       Jeremy Renner|        Gus Maitland| Annabella Sciorra|   Carla Chuang|      Jayne Atkinson|   Ashley Carges|        Linus Roache|          Jim Carges|      Serenade Films|Echo Lake Enterta...|   Canary Films (US)|          drama|     null|     null|   null|   null|   English|      null|               USA|        3|      12|            9|      47|           55|       178|            211|      223|            50|       41|3.44149577804584|\n",
            "|/film/12-angry-me...|4246|https://letterbox...|https://letterbox...|        12 Angry Men|     1997|    117|    William Friedkin|                null|   Courtney B. Vance|             Foreman|         Ossie Davis|            Juror 2|     George C. Scott|        Juror 3| Armin Mueller-Stahl|             Juror 4|   Dorian Harewood|        Juror 5|    James Gandolfini|         Juror 6|          Tony Danza|             Juror 7|      MGM Television|                null|                null|          crime| tv-movie|    drama|   null|   null|   English|      null|               USA|       20|      44|           26|     107|          211|       811|            908|     1188|           341|      421|3.63919548687761|\n",
            "| /film/12-angry-men/|   7|https://letterbox...|https://letterbox...|        12 Angry Men|     1957|     97|        Sidney Lumet|                null|       Martin Balsam|             Juror 1|        John Fiedler|            Juror 2|         Lee J. Cobb|        Juror 3|       E.G. Marshall|             Juror 4|      Jack Klugman|        Juror 5|        Edward Binns|         Juror 6|         Jack Warden|             Juror 7|      United Artists|Orion-Nova Produc...|                null|          drama|     null|     null|   null|   null|   English|      null|               USA|      167|     343|          172|    1048|         1126|      7361|          10935|    47579|         48878|   116775|4.52288978769882|\n",
            "|    /film/12-chairs/|2690|https://letterbox...|https://letterbox...|           12 Chairs|     1971|    161|       Leonid Gaidai|                null|  Archil Gomiashvili|        Остап Бендер|     Sergei Filippov|  Киса Воробьянинов|    Mikhail Pugovkin|     Отец Фёдор|    Nina Grebeshkova|Мусик / Царица Та...|     Yuriy Nikulin|  дворник Тихон|Natalya Krachkovs...|мадам Грицацуева|      Natalya Varley|                Лиза|             Mosfilm|                null|                null|         comedy|adventure|     null|   null|   null|   Russian|      null|              USSR|        1|       2|            4|      19|           11|        87|            119|      170|            59|       76|3.79014598540146|\n",
            "|/film/12-years-a-...| 505|https://letterbox...|https://letterbox...|    12 Years a Slave|     2013|    134|       Steve McQueen|                null|    Chiwetel Ejiofor|     Solomon Northup|  Michael Fassbender|         Edwin Epps|      Lupita Nyong'o|         Patsey|Benedict Cumberbatch|        William Ford|         Paul Dano|   John Tibeats|       Sarah Paulson|       Mary Epps|       Adepero Oduye|               Eliza|New Regency Pictures|Plan B Entertainment|River Road Entert...|        history|    drama|     null|   null|   null|   English|      null|               USA|      333|     815|          688|    3678|         3940|     21872|          29541|    83955|         43047|    49894|4.06804464950392|\n",
            "|           /film/12/|7171|https://letterbox...|https://letterbox...|                  12|     2007|    159|    Nikita Mikhalkov|                null|   Sergei Makovetsky|            Juror #1|    Nikita Mikhalkov|           Juror #2|      Sergey Garmash|       Juror #3|       Valentin Gaft|            Juror #4|  Aleksey Petrenko|       Juror #5|      Yuriy Stoyanov|        Juror #6|      Sergey Gazarov|            Juror #7|          venezia 64|             Mosfilm|                null|          crime|  mystery|    drama|   null|   null|   Russian|   Chechen|Russian Federation|       11|      21|           29|      70|           88|       228|            306|      321|           115|       85|  3.462715855573|\n",
            "|    /film/127-hours/|6859|https://letterbox...|https://letterbox...|           127 Hours|     2010|     94|         Danny Boyle|                null|        James Franco|        Aron Ralston|           Kate Mara|       Kristi Moore|       Amber Tamblyn|  Megan McBride|      Clémence Poésy|                Rana|      Lizzy Caplan|  Sonja Ralston|         Kate Burton|   Donna Ralston|Bailee Michelle J...|        Sonja Age 10|Fox Searchlight P...|               Pathé|Everest Entertain...|          drama|adventure| thriller|   null|   null|   English|      null|                UK|      374|    1108|         1114|    5928|         8038|     33671|          37365|    38476|          8240|     6416|3.48022099054928|\n",
            "| /film/13-assassins/|2300|https://letterbox...|https://letterbox...|        13 Assassins|     2010|    141|       Takashi Miike|                null|        Koji Yakusho|  Shinzaemon Shimada|     Takayuki Yamada| Shinrokuro Shimada|        Yusuke Iseya|         Koyata|        Goro Inagaki|Lord Naritsugu Ma...|    Kazue Fukiishi| Tsuya / Upashi|    Hiroki Matsukata|        Kuranaga|      Tsuyoshi Ihara|     Kuzuro Hirayama|            Toho Co.| Sedic International|                null|         action|    drama|adventure|   null|   null|  Japanese|      null|             Japan|       33|      73|           95|     468|          809|      3251|           5389|     9058|          3251|     2108|3.79891991033218|\n",
            "+--------------------+----+--------------------+--------------------+--------------------+---------+-------+--------------------+--------------------+--------------------+--------------------+--------------------+-------------------+--------------------+---------------+--------------------+--------------------+------------------+---------------+--------------------+----------------+--------------------+--------------------+--------------------+--------------------+--------------------+---------------+---------+---------+-------+-------+----------+----------+------------------+---------+--------+-------------+--------+-------------+----------+---------------+---------+--------------+---------+----------------+\n",
            "only showing top 20 rows\n",
            "\n"
          ]
        }
      ]
    },
    {
      "cell_type": "markdown",
      "metadata": {
        "id": "TlPvNuJGgkQl"
      },
      "source": [
        "# Question 1:\n",
        "## What are the top 20 highest rated films on Letterboxd?\n",
        "### Implementation:\n",
        "#### - Filter out unnecessary columns\n",
        "#### - Cast the review columns to integers\n",
        "#### - Find the total reviews for each film, and calculate the averages\n",
        "#### - Filter out films with higher than a review of 5.0, and null reviews, as well as those who have less reviews than average"
      ]
    },
    {
      "cell_type": "code",
      "metadata": {
        "id": "DzNTpq69g1pU",
        "colab": {
          "base_uri": "https://localhost:8080/"
        },
        "outputId": "4b7faac4-3bc9-4e88-d25e-9bf9a8202e84"
      },
      "source": [
        "# Question 1:\n",
        "\n",
        "from pyspark.sql.functions import col, count, avg, format_number, round, desc, expr, sum as sql_sum\n",
        "\n",
        "film_info = [\"`film.title`\", \"`film.year`\", \"`runtime`\", \"`director.1`\", \"`cast.1`\", \"`cast.2`\", \"`cast.3`\", \"`cast.4`\",\n",
        "                  \"`cast.5`\", \"`cast.6`\", \"`cast.7`\", \"`genre.1`\", \"`genre.2`\", \"`genre.3`\", \"`genre.4`\", \"`genre.5`\",\n",
        "                  \"`language.1`\", \"`language.2`\", \"`country`\", \"`AvgRating`\"]\n",
        "\n",
        "review_cols = [\"`half.star`\", \"`one.star`\", \"`one.half.star`\", \"`two.star`\", \"`two.half.star`\", \"`three.star`\", \"`three.half.star`\", \"`four.star`\",\"`four.half.star`\", \"`five.star`\"]\n",
        "\n",
        "films = df.select(review_cols + film_info)\n",
        "\n",
        "total_reviews_expr = \" + \".join([f\"CAST({col} AS INT)\" for col in review_cols])\n",
        "films = films.withColumn(\"TotalReviews\", expr(total_reviews_expr))\n",
        "\n",
        "avg_reviews = films.agg(avg(\"TotalReviews\")).first()[0]\n",
        "\n",
        "films = films.filter((col(\"AvgRating\") <= 5) & (col(\"AvgRating\").isNotNull()) & (col(\"TotalReviews\") > avg_reviews))\n",
        "films = films.withColumn(\"AvgRating\", round(films[\"AvgRating\"], 4))\n",
        "\n",
        "films = films.select(film_info  + [\"TotalReviews\"])\n",
        "\n",
        "films.orderBy(desc(\"TotalReviews\"), desc(\"AvgRating\") ).show()"
      ],
      "execution_count": null,
      "outputs": [
        {
          "output_type": "stream",
          "name": "stdout",
          "text": [
            "+--------------------+---------+-------+-----------------+-------------------+--------------------+--------------------+----------------+------------------+--------------------+-------------------+---------------+---------------+---------------+---------------+-------+----------+----------+-----------+---------+------------+\n",
            "|          film.title|film.year|runtime|       director.1|             cast.1|              cast.2|              cast.3|          cast.4|            cast.5|              cast.6|             cast.7|        genre.1|        genre.2|        genre.3|        genre.4|genre.5|language.1|language.2|    country|AvgRating|TotalReviews|\n",
            "+--------------------+---------+-------+-----------------+-------------------+--------------------+--------------------+----------------+------------------+--------------------+-------------------+---------------+---------------+---------------+---------------+-------+----------+----------+-----------+---------+------------+\n",
            "|            Parasite|     2019|    133|     Bong Joon-ho|       Song Kang-ho|        Lee Sun-kyun|       Cho Yeo-jeong|   Choi Woo-shik|       Park So-dam|        Lee Jung-eun|       Jang Hye-jin|         comedy|          drama|       thriller|           null|   null|    Korean|   English|South Korea|   4.5953|     1019553|\n",
            "|               Joker|     2019|    122|    Todd Phillips|    Joaquin Phoenix|      Robert De Niro|         Zazie Beetz|  Frances Conroy|      Brett Cullen|        Shea Whigham|          Bill Camp|          crime|          drama|       thriller|           null|   null|   English|      null|     Canada|    3.846|      927054|\n",
            "|          Knives Out|     2019|    131|     Rian Johnson|       Daniel Craig|         Chris Evans|        Ana de Armas|Jamie Lee Curtis|   Michael Shannon|         Don Johnson|      Toni Collette|         comedy|          drama|        mystery|          crime|   null|   English|   Spanish|        USA|   4.0426|      815524|\n",
            "|           Inception|     2010|    148|Christopher Nolan|  Leonardo DiCaprio|Joseph Gordon-Levitt|        Ken Watanabe|       Tom Hardy|       Elliot Page|          Dileep Rao|     Cillian Murphy|science-fiction|         action|      adventure|           null|   null|   English|  Japanese|         UK|   4.1729|      810787|\n",
            "|        Pulp Fiction|     1994|    154|Quentin Tarantino|      John Travolta|   Samuel L. Jackson|         Uma Thurman|    Bruce Willis|       Ving Rhames|       Harvey Keitel|        Eric Stoltz|          crime|       thriller|           null|           null|   null|   English|   Spanish|        USA|   4.3165|      789388|\n",
            "|     The Dark Knight|     2008|    152|Christopher Nolan|     Christian Bale|        Heath Ledger|       Michael Caine|     Gary Oldman|     Aaron Eckhart|   Maggie Gyllenhaal|     Morgan Freeman|         action|       thriller|          drama|          crime|   null|   English|   Chinese|         UK|   4.4238|      773885|\n",
            "|             Get Out|     2017|    104|     Jordan Peele|     Daniel Kaluuya|    Allison Williams|    Catherine Keener|Bradley Whitford|Caleb Landry Jones|    Marcus Henderson|      Betty Gabriel|       thriller|         horror|        mystery|           null|   null|   English|      null|        USA|   4.1656|      767855|\n",
            "|Spider-Man: Into ...|     2018|    117|   Rodney Rothman|      Shameik Moore|        Jake Johnson|    Hailee Steinfeld|  Mahershala Ali| Brian Tyree Henry|         Lily Tomlin|       Lauren Vélez|         action|      adventure|      animation|science-fiction| comedy|   English|   Spanish|        USA|   4.4264|      729070|\n",
            "|          Fight Club|     1999|    139|    David Fincher|      Edward Norton|           Brad Pitt|Helena Bonham Carter|       Meat Loaf|        Jared Leto|        Zach Grenier|     Holt McCallany|          drama|           null|           null|           null|   null|   English|      null|    Germany|   4.2585|      719015|\n",
            "|Avengers: Infinit...|     2018|    149|    Anthony Russo|  Robert Downey Jr.|     Chris Hemsworth|        Mark Ruffalo|     Chris Evans|Scarlett Johansson|Benedict Cumberbatch|        Tom Holland|      adventure|         action|science-fiction|           null|   null|   English|     Xhosa|        USA|   3.9544|      694370|\n",
            "|        Interstellar|     2014|    169|Christopher Nolan|Matthew McConaughey|       Anne Hathaway|    Jessica Chastain|   Ellen Burstyn|      John Lithgow|       Michael Caine|      Casey Affleck|science-fiction|          drama|      adventure|           null|   null|   English|      null|         UK|   4.1561|      690901|\n",
            "|       Black Panther|     2018|    134|     Ryan Coogler|   Chadwick Boseman|   Michael B. Jordan|      Lupita Nyong'o|    Danai Gurira|    Martin Freeman|      Daniel Kaluuya|     Letitia Wright|         action|      adventure|science-fiction|           null|   null|   English|    Korean|        USA|    3.722|      683556|\n",
            "|Once Upon a Time…...|     2019|    162|Quentin Tarantino|  Leonardo DiCaprio|           Brad Pitt|       Margot Robbie|    Emile Hirsch|  Margaret Qualley|    Timothy Olyphant|      Julia Butters|       thriller|         comedy|          drama|           null|   null|   English|   Italian|      China|   3.8011|      682215|\n",
            "|           Midsommar|     2019|    148|        Ari Aster|      Florence Pugh|         Jack Reynor|William Jackson H...|    Will Poulter|  Vilhelm Blomgren|      Isabelle Grill|        Gunnel Fred|          drama|         horror|        mystery|           null|   null|   English|   Swedish|     Sweden|   3.8321|      678474|\n",
            "|          La La Land|     2016|    129|  Damien Chazelle|       Ryan Gosling|          Emma Stone|         John Legend|Rosemarie DeWitt|      J.K. Simmons|          Amiée Conn|      Terry Walters|          music|          drama|        romance|         comedy|   null|   English|      null|        USA|   3.9329|      670210|\n",
            "|           Lady Bird|     2017|     94|     Greta Gerwig|      Saoirse Ronan|      Laurie Metcalf|         Tracy Letts|    Lucas Hedges| Timothée Chalamet|    Beanie Feldstein|         Lois Smith|          drama|         comedy|           null|           null|   null|   English|      null|        USA|   3.9105|      666092|\n",
            "|Inglourious Basterds|     2009|    153|Quentin Tarantino|          Brad Pitt|     Mélanie Laurent|     Christoph Waltz|        Eli Roth|Michael Fassbender|        Diane Kruger|       Daniel Brühl|       thriller|          drama|         action|            war|   null|   English|    German|    Germany|   4.2768|      661065|\n",
            "|The Wolf of Wall ...|     2013|    180|  Martin Scorsese|  Leonardo DiCaprio|          Jonah Hill|       Margot Robbie|   Kyle Chandler|        Rob Reiner|        Jon Bernthal|Matthew McConaughey|         comedy|          drama|          crime|           null|   null|   English|    French|        USA|   4.0023|      660765|\n",
            "|         Baby Driver|     2017|    113|     Edgar Wright|       Ansel Elgort|        Kevin Spacey|          Lily James|        Jon Hamm|        Jamie Foxx|       Eiza González|       Jon Bernthal|          crime|         action|           null|           null|   null|   English|      null|         UK|   3.7854|      660660|\n",
            "|   Avengers: Endgame|     2019|    181|    Anthony Russo|  Robert Downey Jr.|         Chris Evans|        Mark Ruffalo| Chris Hemsworth|Scarlett Johansson|       Jeremy Renner|        Don Cheadle|      adventure|science-fiction|         action|           null|   null|   English|  Japanese|        USA|   3.9117|      655413|\n",
            "+--------------------+---------+-------+-----------------+-------------------+--------------------+--------------------+----------------+------------------+--------------------+-------------------+---------------+---------------+---------------+---------------+-------+----------+----------+-----------+---------+------------+\n",
            "only showing top 20 rows\n",
            "\n"
          ]
        }
      ]
    },
    {
      "cell_type": "markdown",
      "source": [
        "# Question 2:\n",
        "## What are the top 20 directors on Letterboxd?\n",
        "### Implementation\n",
        "#### - filter out unnecessary data\n",
        "#### - filter out films with AvgRatings between 3.5 & 5, and those with a null AvgRating\n",
        "#### - calculate TotalReviews per director\n",
        "#### - filter the directors by those who have greater than average amounts of reviews (reduce outliers such as niche films)\n",
        "#### - sort by number of reviews, number of films and average rating\n"
      ],
      "metadata": {
        "id": "XZMcgEEh0NUE"
      }
    },
    {
      "cell_type": "code",
      "source": [
        "# Question 2:\n",
        "\n",
        "from pyspark.sql.functions import col, when, count, lit, sum as sql_sum, expr\n",
        "\n",
        "film_info = [\"`director.1`\", \"`director.2`\", \"`country`\", \"`AvgRating`\"]\n",
        "review_cols = [\"`half.star`\", \"`one.star`\", \"`one.half.star`\", \"`two.star`\", \"`two.half.star`\", \"`three.star`\", \"`three.half.star`\", \"`four.star`\",\"`four.half.star`\", \"`five.star`\"]\n",
        "\n",
        "director_films = df.select(film_info + review_cols)\n",
        "director_films = director_films.filter((df.AvgRating <= 5) & (df.AvgRating.isNotNull() & (df.AvgRating >= 3.5) ))\n",
        "\n",
        "total_reviews_expr = \" + \".join([f\"CAST({col} AS INT)\" for col in review_cols])\n",
        "director_films = director_films.withColumn(\"TotalReviews\", expr(total_reviews_expr))\n",
        "\n",
        "stack_expr = \"stack(2, `director.1`, `director.2`) as director\"\n",
        "director_films = director_films.selectExpr(\"`director.1`\", \"`director.2`\", \"country\", \"AvgRating\", \"TotalReviews\", stack_expr)\n",
        "\n",
        "avg_reviews = director_films.agg(avg(\"TotalReviews\")).first()[0]\n",
        "\n",
        "directors = director_films.filter(col(\"director\").isNotNull())\\\n",
        "                  .groupBy(\"director\", \"country\")\\\n",
        "                  .agg(round(avg(\"AvgRating\"), 4).alias(\"average_rating\"),\n",
        "                  sql_sum(\"TotalReviews\").alias(\"total_reviews\"),\n",
        "                  count(\"*\").alias(\"number_of_films\"))\n",
        "\n",
        "directors = directors.filter(col(\"total_reviews\") > avg_reviews)\n",
        "\n",
        "print(\"\\nTop 20 Directors with Average Ratings of Greater Than 3.5 Stars: \")\n",
        "directors.orderBy(col(\"total_reviews\").desc(), col(\"number_of_films\").desc(), col(\"average_rating\").desc() ).show(n=20)\n",
        "\n"
      ],
      "metadata": {
        "colab": {
          "base_uri": "https://localhost:8080/"
        },
        "id": "Dw9JV9OsjGrY",
        "outputId": "7c48d2b4-6cc8-4026-dd5f-3dcab405ba44"
      },
      "execution_count": null,
      "outputs": [
        {
          "output_type": "stream",
          "name": "stdout",
          "text": [
            "\n",
            "Top 20 Directors with Average Ratings of Greater Than 3.5 Stars: \n",
            "+-----------------+-----------+--------------+-------------+---------------+\n",
            "|         director|    country|average_rating|total_reviews|number_of_films|\n",
            "+-----------------+-----------+--------------+-------------+---------------+\n",
            "|Quentin Tarantino|        USA|        3.9995|      3272114|              8|\n",
            "| Steven Spielberg|        USA|        3.8929|      3147807|             15|\n",
            "|Christopher Nolan|         UK|        4.1321|      3032607|              5|\n",
            "|  Martin Scorsese|        USA|        3.9092|      2914832|             15|\n",
            "|    David Fincher|        USA|        3.8986|      2659178|              7|\n",
            "|    Anthony Russo|        USA|        3.8159|      2303434|              4|\n",
            "|        Joe Russo|        USA|        3.8159|      2303434|              4|\n",
            "|   Hayao Miyazaki|      Japan|        4.0984|      2186508|             11|\n",
            "|      Pete Docter|        USA|        4.0209|      1935360|              4|\n",
            "|     Edgar Wright|         UK|        3.7497|      1825327|              5|\n",
            "|  Robert Zemeckis|        USA|        3.8194|      1745620|              8|\n",
            "|     Bong Joon-ho|South Korea|        3.9793|      1542864|              6|\n",
            "|        Brad Bird|        USA|         3.976|      1493262|              4|\n",
            "|  Stanley Kubrick|         UK|        4.0888|      1481715|              7|\n",
            "|       James Gunn|        USA|        3.6855|      1454191|              3|\n",
            "| Alfred Hitchcock|        USA|        3.9082|      1440251|             18|\n",
            "|     Wes Anderson|        USA|        3.8714|      1402099|              7|\n",
            "|  Damien Chazelle|        USA|        3.9777|      1397685|              3|\n",
            "|    Peter Jackson|New Zealand|        4.0234|      1388972|              6|\n",
            "|      David Yates|         UK|        3.7715|      1353362|              5|\n",
            "+-----------------+-----------+--------------+-------------+---------------+\n",
            "only showing top 20 rows\n",
            "\n"
          ]
        }
      ]
    },
    {
      "cell_type": "markdown",
      "source": [
        "# Question 3:\n",
        "## Which actors star in the most movies with a rating of higher than 3.5 stars?\n",
        "### Implementation:\n",
        "#### - Filter out the actors and the average ratings\n",
        "#### - Remove all films with ratings lower than 3.5 stars, and sort from highest to lowest\n",
        "#### - Count the amount of times an actor's name appears in the filtered data\n",
        "#### - Create a new DataFrame with the top 20 actors whose names appear in the most top-rated films\n"
      ],
      "metadata": {
        "id": "2rM01ofUAsZI"
      }
    },
    {
      "cell_type": "code",
      "metadata": {
        "id": "Az250Dgghvd5",
        "colab": {
          "base_uri": "https://localhost:8080/"
        },
        "outputId": "e511b5ed-44ed-4db4-bf26-d8d3ac15256d"
      },
      "source": [
        "# Question 3:\n",
        "\n",
        "from pyspark.sql.functions import col, when, count, lit\n",
        "\n",
        "filtered_films = df.drop(\"Film.Link\", \"ID\", \"Film.Base.Link\", \"Film.Ratings.Link\", \"director.2\", \"role.1\", \"role.2\", \"role.3\", \"role.4\", \"role.5\", \"role.6\", \"role.7\", \"studio.1\", \"studio.2\", \"studio.3\", \"genre.4\", \"genre.5\", \"half.star\",\n",
        "             \"one.star\", \"one.half.star\", \"two.star\", \"two.half.star\", \"three.star\", \"three.half.star\", \"four.star\", \"four.half.star\", \"five.star\")\n",
        "filtered_films = filtered_films.filter((filtered_films.AvgRating >= 3.5) & (filtered_films.AvgRating <= 5))\n",
        "\n",
        "stack_expr = \"stack(7, `cast.1`, `cast.2`, `cast.3`, `cast.4`, `cast.5`, `cast.6`, `cast.7`) as actor\"\n",
        "actors = filtered_films.selectExpr(\"*\", stack_expr)\n",
        "\n",
        "actors_high = actors.filter(col(\"actor\").isNotNull())\\\n",
        "                  .groupBy(\"actor\", \"country\")\\\n",
        "                  .agg(round(avg(\"AvgRating\"), 4).alias(\"average_rating\"), count(\"*\").alias(\"count\"))\\\n",
        "                  .orderBy(col(\"count\").desc())\n",
        "\n",
        "print(\"\\nTop 20 Actors with the Most Movies with Average Ratings of Greater Than 3.5 Stars: \")\n",
        "actors_high.show(n=20)\n"
      ],
      "execution_count": null,
      "outputs": [
        {
          "output_type": "stream",
          "name": "stdout",
          "text": [
            "\n",
            "Top 20 Actors with the Most Movies with Average Ratings of Greater Than 3.5 Stars: \n",
            "+-----------------+-------+--------------+-----+\n",
            "|            actor|country|average_rating|count|\n",
            "+-----------------+-------+--------------+-----+\n",
            "|    James Stewart|    USA|        3.8737|   23|\n",
            "|  Koichi Yamadera|  Japan|        3.7613|   22|\n",
            "|   Toshirō Mifune|  Japan|        3.9786|   21|\n",
            "|   Robert De Niro|    USA|         3.873|   21|\n",
            "|  Tatsuya Nakadai|  Japan|        4.0876|   20|\n",
            "|  Humphrey Bogart|    USA|        3.8038|   19|\n",
            "|        Tom Hanks|    USA|         3.835|   17|\n",
            "|        Şener Şen| Turkey|        3.7384|   17|\n",
            "|      Henry Fonda|    USA|        3.7672|   17|\n",
            "|Samuel L. Jackson|    USA|        3.7459|   16|\n",
            "| Gérard Depardieu| France|        3.6636|   16|\n",
            "|    Joan Crawford|    USA|        3.7259|   16|\n",
            "|       Chishū Ryū|  Japan|        4.0519|   16|\n",
            "|   Dustin Hoffman|    USA|        3.7642|   16|\n",
            "|    Michael Caine|     UK|        3.8169|   16|\n",
            "|   Clint Eastwood|    USA|        3.7514|   16|\n",
            "|       Cary Grant|    USA|        3.8407|   15|\n",
            "|   Michel Piccoli| France|        3.7536|   15|\n",
            "|       John Wayne|    USA|        3.7408|   15|\n",
            "|   Walter Matthau|    USA|        3.7965|   15|\n",
            "+-----------------+-------+--------------+-----+\n",
            "only showing top 20 rows\n",
            "\n"
          ]
        }
      ]
    },
    {
      "cell_type": "markdown",
      "metadata": {
        "id": "qxkjTvxIhBO-"
      },
      "source": [
        "# Question 4:\n",
        "## What are the top 20 languages on Letterboxd, sorted by number of movies?\n",
        "### Implementation:\n",
        "#### - select only the primary language\n",
        "#### - show the top 20 languages, and their total ratings"
      ]
    },
    {
      "cell_type": "code",
      "metadata": {
        "id": "xhGYTdWLhJCH",
        "colab": {
          "base_uri": "https://localhost:8080/"
        },
        "outputId": "fc83b543-53e1-4ced-b6cc-c50842396442"
      },
      "source": [
        "# Question 3:\n",
        "\n",
        "from pyspark.sql.functions import col, when, count, lit\n",
        "\n",
        "stack_expr = \"stack(1, `language.1`) as language\"\n",
        "languages = df.selectExpr(\"*\", stack_expr)\n",
        "\n",
        "lang_high = languages.filter(col(\"language\").isNotNull())\\\n",
        "                  .groupBy(\"language\")\\\n",
        "                  .agg(count(\"*\").alias(\"count\"))\\\n",
        "                  .orderBy(col(\"count\").desc())\n",
        "\n",
        "print(\"\\nTop 20 Languages on Letterboxd: \")\n",
        "lang_high.show(n=20)\n"
      ],
      "execution_count": null,
      "outputs": [
        {
          "output_type": "stream",
          "name": "stdout",
          "text": [
            "\n",
            "Top 20 Languages on Letterboxd: \n",
            "+---------------+-----+\n",
            "|       language|count|\n",
            "+---------------+-----+\n",
            "|        English|15187|\n",
            "|         French| 1291|\n",
            "|       Japanese| 1117|\n",
            "|        Italian|  643|\n",
            "|        Spanish|  630|\n",
            "|         German|  490|\n",
            "|          Hindi|  444|\n",
            "|         Korean|  360|\n",
            "|     Portuguese|  344|\n",
            "|        Turkish|  243|\n",
            "|        Chinese|  237|\n",
            "|      Cantonese|  219|\n",
            "|        Russian|  167|\n",
            "|        Swedish|  150|\n",
            "|         Danish|  104|\n",
            "|          Tamil|   94|\n",
            "|Persian (Farsi)|   85|\n",
            "|         Arabic|   71|\n",
            "|          Dutch|   67|\n",
            "|      Malayalam|   67|\n",
            "+---------------+-----+\n",
            "only showing top 20 rows\n",
            "\n"
          ]
        }
      ]
    },
    {
      "cell_type": "markdown",
      "source": [
        "# Question 5:\n",
        "## What are the top 10 movies in English, French, Japanese, Italian, and Spanish?\n",
        "### Implementation:\n",
        "#### - select films, runtime, year, director, languages, country, and average rating\n",
        "#### - select films with each specific language\n",
        "#### - sort from high to low ratings, and choose top 10"
      ],
      "metadata": {
        "id": "mp7IZ6t1UX_m"
      }
    },
    {
      "cell_type": "code",
      "source": [
        "# Question 4:\n",
        "\n",
        "from pyspark.sql.functions import col, when, count, lit, desc\n",
        "\n",
        "\n",
        "film_info = [\"`film.year`\", \"`director.1`\", \"`film.title`\", \"country\", \"AvgRating\", \"`language.1`\", \"`language.2`\"]\n",
        "review_cols = [\"`half.star`\", \"`one.star`\", \"`one.half.star`\", \"`two.star`\", \"`two.half.star`\", \"`three.star`\", \"`three.half.star`\", \"`four.star`\",\"`four.half.star`\", \"`five.star`\"]\n",
        "total_reviews_expr = \" + \".join([f\"CAST({col} AS INT)\" for col in review_cols])\n",
        "\n",
        "top_films = df.select(review_cols + film_info)\n",
        "\n",
        "top_films = top_films.withColumn(\"TotalReviews\", expr(total_reviews_expr))\n",
        "top_films = top_films.drop(\"Film.Link\", \"ID\", \"Film.Base.Link\", \"Film.Ratings.Link\", \"director.2\", \"role.1\", \"role.2\", \"role.3\", \"role.4\", \"role.5\", \"role.6\", \"role.7\", \"studio.1\", \"studio.2\", \"studio.3\", \"genre.4\", \"genre.5\")\n",
        "avg_reviews = top_films.agg(avg(\"TotalReviews\")).first()[0]\n",
        "\n",
        "filtered_films = top_films.filter((top_films.AvgRating <= 5) & (top_films.TotalReviews > avg_reviews))\n",
        "filtered_films = filtered_films.withColumn(\"AvgRating\", round(filtered_films[\"AvgRating\"], 4))\n",
        "\n",
        "filtered_films = filtered_films.orderBy(desc(\"TotalReviews\"))\n",
        "\n",
        "stack_expr = \"stack(2, `language.1`, `language.2`) as language\"\n",
        "languages = filtered_films.selectExpr(\"*\", stack_expr)\n",
        "\n",
        "lang_high = languages.filter(col(\"language\").isNotNull())\\\n",
        "                  .groupBy(\"language\")\\\n",
        "                  .agg(count(\"*\").alias(\"count\"))\\\n",
        "                  .orderBy(col(\"count\").desc())\n",
        "\n",
        "english = filtered_films.filter((col(\"`language.1`\") == \"English\"))\n",
        "english = english.select(\"`film.year`\", \"`director.1`\", \"`film.title`\", \"country\", \"AvgRating\", \"TotalReviews\").orderBy(desc(\"AvgRating\"), desc(\"TotalReviews\"))\n",
        "\n",
        "french = filtered_films.filter((col(\"`language.1`\") == \"French\"))\n",
        "french = french.select(\"`film.year`\", \"`director.1`\", \"`film.title`\", \"country\", \"AvgRating\", \"TotalReviews\").orderBy(desc(\"AvgRating\"), desc(\"TotalReviews\"))\n",
        "\n",
        "japanese = filtered_films.filter((col(\"`language.1`\") == \"Japanese\"))\n",
        "japanese = japanese.select(\"`film.year`\", \"`director.1`\", \"`film.title`\", \"country\", \"AvgRating\", \"TotalReviews\").orderBy(desc(\"AvgRating\"), desc(\"TotalReviews\"))\n",
        "\n",
        "italian = filtered_films.filter((col(\"`language.1`\") == \"Italian\"))\n",
        "italian = italian.select(\"`film.year`\", \"`director.1`\", \"`film.title`\", \"country\", \"AvgRating\", \"TotalReviews\").orderBy(desc(\"AvgRating\"), desc(\"TotalReviews\"))\n",
        "\n",
        "spanish = filtered_films.filter((col(\"`language.1`\") == \"Spanish\"))\n",
        "spanish = spanish.select(\"`film.year`\", \"`director.1`\", \"`film.title`\", \"country\", \"AvgRating\", \"TotalReviews\").orderBy(desc(\"AvgRating\"), desc(\"TotalReviews\"))\n",
        "\n",
        "\n",
        "print(\"\\nTop 10 English Films: \")\n",
        "english.show(n=10)\n",
        "\n",
        "print(\"\\nTop 10 French Films: \")\n",
        "french.show(n=10)\n",
        "\n",
        "print(\"\\nTop 10 Japanese Films: \")\n",
        "japanese.show(n=10)\n",
        "\n",
        "print(\"\\nTop 10 Italian Films: \")\n",
        "italian.show(n=10)\n",
        "\n",
        "print(\"\\nTop 10 Spanish Films: \")\n",
        "spanish.show(n=10)\n",
        "\n"
      ],
      "metadata": {
        "colab": {
          "base_uri": "https://localhost:8080/"
        },
        "id": "GtIUnFMLX34v",
        "outputId": "1c082228-9d03-4815-c78a-05c6f29bb0c1"
      },
      "execution_count": null,
      "outputs": [
        {
          "output_type": "stream",
          "name": "stdout",
          "text": [
            "\n",
            "Top 10 English Films: \n",
            "+---------+--------------------+--------------------+-------+---------+------------+\n",
            "|film.year|          director.1|          film.title|country|AvgRating|TotalReviews|\n",
            "+---------+--------------------+--------------------+-------+---------+------------+\n",
            "|     1972|Francis Ford Coppola|       The Godfather|    USA|   4.5409|      459531|\n",
            "|     1974|Francis Ford Coppola|The Godfather: Pa...|    USA|   4.5296|      268947|\n",
            "|     1957|        Sidney Lumet|        12 Angry Men|    USA|   4.5229|      234384|\n",
            "|     1994|      Frank Darabont|The Shawshank Red...|    USA|    4.452|      465019|\n",
            "|     2018|      Rodney Rothman|Spider-Man: Into ...|    USA|   4.4264|      729070|\n",
            "|     2008|   Christopher Nolan|     The Dark Knight|     UK|   4.4238|      773885|\n",
            "|     1990|     Martin Scorsese|          GoodFellas|    USA|   4.4225|      388828|\n",
            "|     1993|    Steven Spielberg|    Schindler's List|    USA|   4.4182|      282358|\n",
            "|     1980|      Irvin Kershner|The Empire Strike...|    USA|   4.3992|      476623|\n",
            "|     2007|Paul Thomas Anderson| There Will Be Blood|    USA|   4.3929|      292899|\n",
            "+---------+--------------------+--------------------+-------+---------+------------+\n",
            "only showing top 10 rows\n",
            "\n",
            "\n",
            "Top 10 French Films: \n",
            "+---------+--------------------+--------------------+-------+---------+------------+\n",
            "|film.year|          director.1|          film.title|country|AvgRating|TotalReviews|\n",
            "+---------+--------------------+--------------------+-------+---------+------------+\n",
            "|     2019|      Céline Sciamma|Portrait of a Lad...| France|   4.4305|      290713|\n",
            "|     1928| Carl Theodor Dreyer|The Passion of Jo...| France|   4.3739|       40426|\n",
            "|     1995|   Mathieu Kassovitz|            La Haine| France|     4.37|      120562|\n",
            "|     2010|    Denis Villeneuve|           Incendies| Canada|   4.2695|       79648|\n",
            "|     1959|   François Truffaut|       The 400 Blows| France|   4.2603|       85199|\n",
            "|     1956|      Robert Bresson|       A Man Escaped| France|   4.2543|       24042|\n",
            "|     1969|Jean-Pierre Melville|     Army of Shadows| France|   4.2455|       18085|\n",
            "|     2014|        Xavier Dolan|               Mommy| Canada|   4.2422|       89432|\n",
            "|     1994|Krzysztof Kieślowski|   Three Colors: Red| France|    4.239|       57864|\n",
            "|     1967|        Jacques Demy|The Young Girls o...| France|   4.2299|       21541|\n",
            "+---------+--------------------+--------------------+-------+---------+------------+\n",
            "only showing top 10 rows\n",
            "\n",
            "\n",
            "Top 10 Japanese Films: \n",
            "+---------+-------------------+--------------------+-------+---------+------------+\n",
            "|film.year|         director.1|          film.title|country|AvgRating|TotalReviews|\n",
            "+---------+-------------------+--------------------+-------+---------+------------+\n",
            "|     1962|   Masaki Kobayashi|            Harakiri|  Japan|   4.5529|       39480|\n",
            "|     1954|     Akira Kurosawa|       Seven Samurai|  Japan|   4.5252|      113757|\n",
            "|     2001|     Hayao Miyazaki|       Spirited Away|  Japan|   4.4731|      561172|\n",
            "|     1963|     Akira Kurosawa|        High and Low|  Japan|   4.4656|       35725|\n",
            "|     1952|     Akira Kurosawa|               Ikiru|  Japan|   4.4134|       42375|\n",
            "|     1997|       Hideaki Anno|Neon Genesis Evan...|  Japan|   4.4102|       87158|\n",
            "|     1985|     Akira Kurosawa|                 Ran|  Japan|   4.3731|       56089|\n",
            "|     1964|Hiroshi Teshigahara|  Woman in the Dunes|  Japan|   4.3644|       20104|\n",
            "|     1953|       Yasujirō Ozu|         Tokyo Story|  Japan|   4.3605|       46556|\n",
            "|     1988|      Isao Takahata|Grave of the Fire...|  Japan|   4.3543|      152154|\n",
            "+---------+-------------------+--------------------+-------+---------+------------+\n",
            "only showing top 10 rows\n",
            "\n",
            "\n",
            "Top 10 Italian Films: \n",
            "+---------+--------------------+--------------------+-------+---------+------------+\n",
            "|film.year|          director.1|          film.title|country|AvgRating|TotalReviews|\n",
            "+---------+--------------------+--------------------+-------+---------+------------+\n",
            "|     1966|        Sergio Leone|The Good, the Bad...|    USA|    4.407|      160333|\n",
            "|     1988|  Giuseppe Tornatore|     Cinema Paradiso|  Italy|   4.3381|       94333|\n",
            "|     1968|        Sergio Leone|Once Upon a Time ...|  Italy|   4.3022|       81632|\n",
            "|     1957|    Federico Fellini|   Nights of Cabiria|  Italy|   4.2794|       26277|\n",
            "|     1966|    Gillo Pontecorvo|The Battle of Alg...|  Italy|   4.2791|       29936|\n",
            "|     1963|    Federico Fellini|                  8½|  Italy|   4.2697|       79056|\n",
            "|     1948|    Vittorio De Sica|     Bicycle Thieves|  Italy|   4.2582|       80197|\n",
            "|     1960|    Federico Fellini|       La Dolce Vita| France|   4.2222|       46849|\n",
            "|     1961|Michelangelo Anto...|            La Notte|  Italy|   4.2039|       21519|\n",
            "|     1997|     Roberto Benigni|   Life Is Beautiful|  Italy|   4.2026|      132084|\n",
            "+---------+--------------------+--------------------+-------+---------+------------+\n",
            "only showing top 10 rows\n",
            "\n",
            "\n",
            "Top 10 Spanish Films: \n",
            "+---------+--------------------+--------------------+---------+---------+------------+\n",
            "|film.year|          director.1|          film.title|  country|AvgRating|TotalReviews|\n",
            "+---------+--------------------+--------------------+---------+---------+------------+\n",
            "|     2006|  Guillermo del Toro|     Pan's Labyrinth|   Mexico|   4.1464|      298034|\n",
            "|     1962|         Luis Buñuel|The Exterminating...|   Mexico|   4.1242|       24881|\n",
            "|     1973|Alejandro Jodorowsky|   The Holy Mountain|   Mexico|   4.1183|       47037|\n",
            "|     2015|         Ciro Guerra|Embrace of the Se...|Argentina|   4.1073|       19203|\n",
            "|     2009|Juan José Campanella|The Secret in The...|Argentina|   4.1033|       41399|\n",
            "|     2001|      Alfonso Cuarón|   Y Tu Mamá También|   Mexico|   4.0951|       82245|\n",
            "|     1973|        Víctor Erice|The Spirit of the...|    Spain|    4.093|       17539|\n",
            "|     2018|      Alfonso Cuarón|                Roma|      USA|   4.0781|      232568|\n",
            "|     1999|     Pedro Almodóvar| All About My Mother|   France|    4.076|       59282|\n",
            "|     2014|      Damián Szifron|          Wild Tales|Argentina|   4.0716|       65521|\n",
            "+---------+--------------------+--------------------+---------+---------+------------+\n",
            "only showing top 10 rows\n",
            "\n"
          ]
        }
      ]
    },
    {
      "cell_type": "markdown",
      "source": [
        "# Question 6:\n",
        "## What are the top movies in Animation, Drama, Comedy, Thriller, and Adventure?\n",
        "### Implementation:\n",
        "#### - select films, runtime, year, director, genres, country, and average rating\n",
        "#### - select films with each specific genre\n",
        "#### - sort from high to low ratings, and choose top 10"
      ],
      "metadata": {
        "id": "eFShsmi61Trq"
      }
    },
    {
      "cell_type": "code",
      "source": [
        "# Question 6:\n",
        "\n",
        "from pyspark.sql.functions import col, when, count, lit, desc\n",
        "\n",
        "\n",
        "film_info = [\"`film.year`\", \"`director.1`\", \"`film.title`\", \"country\", \"AvgRating\", \"`genre.1`\", \"`genre.2`\", \"`genre.3`\", \"`genre.4`\", \"`genre.5`\"]\n",
        "review_cols = [\"`half.star`\", \"`one.star`\", \"`one.half.star`\", \"`two.star`\", \"`two.half.star`\", \"`three.star`\", \"`three.half.star`\", \"`four.star`\",\"`four.half.star`\", \"`five.star`\"]\n",
        "total_reviews_expr = \" + \".join([f\"CAST({col} AS INT)\" for col in review_cols])\n",
        "\n",
        "top_films = df.select(review_cols + film_info)\n",
        "\n",
        "top_films = top_films.withColumn(\"TotalReviews\", expr(total_reviews_expr))\n",
        "avg_reviews = top_films.agg(avg(\"TotalReviews\")).first()[0]\n",
        "\n",
        "filtered_films = top_films.filter((top_films.AvgRating <= 5) & (top_films.TotalReviews > avg_reviews))\n",
        "filtered_films = filtered_films.withColumn(\"AvgRating\", round(filtered_films[\"AvgRating\"], 4))\n",
        "\n",
        "filtered_films = filtered_films.orderBy(desc(\"TotalReviews\"))\n",
        "\n",
        "stack_expr = \"stack(5, `genre.1`, `genre.2`, `genre.3`, `genre.4`, `genre.5`) as genre\"\n",
        "genres = filtered_films.selectExpr(\"*\", stack_expr)\n",
        "\n",
        "lang_high = genres.filter(col(\"genre\").isNotNull())\\\n",
        "                  .groupBy(\"genre\")\\\n",
        "                  .agg(count(\"*\").alias(\"count\"))\\\n",
        "                  .orderBy(col(\"count\").desc())\n",
        "\n",
        "animation = filtered_films.filter((col(\"`genre.1`\") == \"animation\") | (col(\"`genre.2`\") == \"animation\") | (col(\"`genre.3`\") == \"animation\") | (col(\"`genre.4`\") == \"animation\") | (col(\"`genre.5`\") == \"animation\"))\n",
        "animation = animation.select(\"`film.year`\", \"`director.1`\", \"`film.title`\", \"country\", \"AvgRating\", \"TotalReviews\").orderBy(desc(\"TotalReviews\"), desc(\"AvgRating\"))\n",
        "\n",
        "drama = filtered_films.filter((col(\"`genre.1`\") == \"drama\") | (col(\"`genre.2`\") == \"drama\") | (col(\"`genre.3`\") == \"drama\") | (col(\"`genre.4`\") == \"drama\") | (col(\"`genre.5`\") == \"drama\"))\n",
        "drama = drama.select(\"`film.year`\", \"`director.1`\", \"`film.title`\", \"country\", \"AvgRating\", \"TotalReviews\").orderBy(desc(\"TotalReviews\"), desc(\"AvgRating\"))\n",
        "\n",
        "comedy = filtered_films.filter((col(\"`genre.1`\") == \"comedy\") | (col(\"`genre.2`\") == \"comedy\") | (col(\"`genre.3`\") == \"comedy\") | (col(\"`genre.4`\") == \"comedy\") | (col(\"`genre.5`\") == \"comedy\"))\n",
        "comedy = comedy.select(\"`film.year`\", \"`director.1`\", \"`film.title`\", \"country\", \"AvgRating\", \"TotalReviews\").orderBy(desc(\"TotalReviews\"), desc(\"AvgRating\"))\n",
        "\n",
        "thriller = filtered_films.filter((col(\"`genre.1`\") == \"thriller\") | (col(\"`genre.2`\") == \"thriller\") | (col(\"`genre.3`\") == \"thriller\") | (col(\"`genre.4`\") == \"thriller\") | (col(\"`genre.5`\") == \"thriller\"))\n",
        "thriller = thriller.select(\"`film.year`\", \"`director.1`\", \"`film.title`\", \"country\", \"AvgRating\", \"TotalReviews\").orderBy(desc(\"TotalReviews\"), desc(\"AvgRating\"))\n",
        "\n",
        "adventure = filtered_films.filter((col(\"`genre.1`\") == \"adventure\") | (col(\"`genre.2`\") == \"adventure\") | (col(\"`genre.3`\") == \"adventure\") | (col(\"`genre.4`\") == \"adventure\") | (col(\"`genre.5`\") == \"adventure\"))\n",
        "adventure = adventure.select(\"`film.year`\", \"`director.1`\", \"`film.title`\", \"country\", \"AvgRating\", \"TotalReviews\").orderBy(desc(\"TotalReviews\"), desc(\"AvgRating\"))\n",
        "\n",
        "\n",
        "print(\"\\nTop 10 Animated Films: \")\n",
        "animation.show(n=10)\n",
        "\n",
        "print(\"\\nTop 10 Drama Films: \")\n",
        "drama.show(n=10)\n",
        "\n",
        "print(\"\\nTop 10 Comedy Films: \")\n",
        "comedy.show(n=10)\n",
        "\n",
        "print(\"\\nTop 10 Thriller Films: \")\n",
        "thriller.show(n=10)\n",
        "\n",
        "print(\"\\nTop 10 Adventure Films: \")\n",
        "adventure.show(n=10)\n"
      ],
      "metadata": {
        "id": "W7fDJQCj1V_n",
        "colab": {
          "base_uri": "https://localhost:8080/"
        },
        "outputId": "dadee9ea-7b7a-4787-ae86-7abf035fa4a6"
      },
      "execution_count": null,
      "outputs": [
        {
          "output_type": "stream",
          "name": "stdout",
          "text": [
            "\n",
            "Top 10 Animated Films: \n",
            "+---------+--------------+--------------------+-------+---------+------------+\n",
            "|film.year|    director.1|          film.title|country|AvgRating|TotalReviews|\n",
            "+---------+--------------+--------------------+-------+---------+------------+\n",
            "|     2018|Rodney Rothman|Spider-Man: Into ...|    USA|   4.4264|      729070|\n",
            "|     2001|Hayao Miyazaki|       Spirited Away|  Japan|   4.4731|      561172|\n",
            "|     2015|   Pete Docter|          Inside Out|    USA|   3.8937|      553171|\n",
            "|     2017|   Lee Unkrich|                Coco| Mexico|   4.1844|      514852|\n",
            "|     2009|   Pete Docter|                  Up|    USA|   4.0683|      494987|\n",
            "|     2007|     Brad Bird|         Ratatouille|    USA|   4.1144|      490625|\n",
            "|     2020|   Pete Docter|                Soul|    USA|   4.0634|      479848|\n",
            "|     2008|Andrew Stanton|              WALL·E|    USA|   4.1304|      473496|\n",
            "|     1995| John Lasseter|           Toy Story|    USA|     4.17|      462011|\n",
            "|     2004|     Brad Bird|     The Incredibles|    USA|   4.0851|      455378|\n",
            "+---------+--------------+--------------------+-------+---------+------------+\n",
            "only showing top 10 rows\n",
            "\n",
            "\n",
            "Top 10 Drama Films: \n",
            "+---------+-----------------+--------------------+-----------+---------+------------+\n",
            "|film.year|       director.1|          film.title|    country|AvgRating|TotalReviews|\n",
            "+---------+-----------------+--------------------+-----------+---------+------------+\n",
            "|     2019|     Bong Joon-ho|            Parasite|South Korea|   4.5953|     1019553|\n",
            "|     2019|    Todd Phillips|               Joker|     Canada|    3.846|      927054|\n",
            "|     2019|     Rian Johnson|          Knives Out|        USA|   4.0426|      815524|\n",
            "|     2008|Christopher Nolan|     The Dark Knight|         UK|   4.4238|      773885|\n",
            "|     1999|    David Fincher|          Fight Club|    Germany|   4.2585|      719015|\n",
            "|     2014|Christopher Nolan|        Interstellar|         UK|   4.1561|      690901|\n",
            "|     2019|Quentin Tarantino|Once Upon a Time…...|      China|   3.8011|      682215|\n",
            "|     2019|        Ari Aster|           Midsommar|     Sweden|   3.8321|      678474|\n",
            "|     2016|  Damien Chazelle|          La La Land|        USA|   3.9329|      670210|\n",
            "|     2017|     Greta Gerwig|           Lady Bird|        USA|   3.9105|      666092|\n",
            "+---------+-----------------+--------------------+-----------+---------+------------+\n",
            "only showing top 10 rows\n",
            "\n",
            "\n",
            "Top 10 Comedy Films: \n",
            "+---------+-----------------+--------------------+-----------+---------+------------+\n",
            "|film.year|       director.1|          film.title|    country|AvgRating|TotalReviews|\n",
            "+---------+-----------------+--------------------+-----------+---------+------------+\n",
            "|     2019|     Bong Joon-ho|            Parasite|South Korea|   4.5953|     1019553|\n",
            "|     2019|     Rian Johnson|          Knives Out|        USA|   4.0426|      815524|\n",
            "|     2018|   Rodney Rothman|Spider-Man: Into ...|        USA|   4.4264|      729070|\n",
            "|     2019|Quentin Tarantino|Once Upon a Time…...|      China|   3.8011|      682215|\n",
            "|     2016|  Damien Chazelle|          La La Land|        USA|   3.9329|      670210|\n",
            "|     2017|     Greta Gerwig|           Lady Bird|        USA|   3.9105|      666092|\n",
            "|     2013|  Martin Scorsese|The Wolf of Wall ...|        USA|   4.0023|      660765|\n",
            "|     2014|     Wes Anderson|The Grand Budapes...|    Germany|   4.2003|      614115|\n",
            "|     2016|       Tim Miller|            Deadpool|        USA|   3.6663|      583731|\n",
            "|     1994|  Robert Zemeckis|        Forrest Gump|        USA|   4.1076|      582549|\n",
            "+---------+-----------------+--------------------+-----------+---------+------------+\n",
            "only showing top 10 rows\n",
            "\n",
            "\n",
            "Top 10 Thriller Films: \n",
            "+---------+-----------------+--------------------+-----------+---------+------------+\n",
            "|film.year|       director.1|          film.title|    country|AvgRating|TotalReviews|\n",
            "+---------+-----------------+--------------------+-----------+---------+------------+\n",
            "|     2019|     Bong Joon-ho|            Parasite|South Korea|   4.5953|     1019553|\n",
            "|     2019|    Todd Phillips|               Joker|     Canada|    3.846|      927054|\n",
            "|     1994|Quentin Tarantino|        Pulp Fiction|        USA|   4.3165|      789388|\n",
            "|     2008|Christopher Nolan|     The Dark Knight|         UK|   4.4238|      773885|\n",
            "|     2017|     Jordan Peele|             Get Out|        USA|   4.1656|      767855|\n",
            "|     2019|Quentin Tarantino|Once Upon a Time…...|      China|   3.8011|      682215|\n",
            "|     2009|Quentin Tarantino|Inglourious Basterds|    Germany|   4.2768|      661065|\n",
            "|     1980|  Stanley Kubrick|         The Shining|        USA|   4.2879|      625320|\n",
            "|     2014|    David Fincher|           Gone Girl|        USA|   4.0468|      611512|\n",
            "|     1991|   Jonathan Demme|The Silence of th...|        USA|   4.3145|      536324|\n",
            "+---------+-----------------+--------------------+-----------+---------+------------+\n",
            "only showing top 10 rows\n",
            "\n",
            "\n",
            "Top 10 Adventure Films: \n",
            "+---------+-----------------+--------------------+---------+---------+------------+\n",
            "|film.year|       director.1|          film.title|  country|AvgRating|TotalReviews|\n",
            "+---------+-----------------+--------------------+---------+---------+------------+\n",
            "|     2010|Christopher Nolan|           Inception|       UK|   4.1729|      810787|\n",
            "|     2018|   Rodney Rothman|Spider-Man: Into ...|      USA|   4.4264|      729070|\n",
            "|     2018|    Anthony Russo|Avengers: Infinit...|      USA|   3.9544|      694370|\n",
            "|     2014|Christopher Nolan|        Interstellar|       UK|   4.1561|      690901|\n",
            "|     2018|     Ryan Coogler|       Black Panther|      USA|    3.722|      683556|\n",
            "|     2019|    Anthony Russo|   Avengers: Endgame|      USA|   3.9117|      655413|\n",
            "|     2014|       James Gunn|Guardians of the ...|      USA|   3.8243|      646614|\n",
            "|     2016|       Tim Miller|            Deadpool|      USA|   3.6663|      583731|\n",
            "|     2015|    George Miller|  Mad Max: Fury Road|Australia|   4.1551|      580194|\n",
            "|     2017|    Taika Waititi|      Thor: Ragnarok|      USA|   3.8704|      569682|\n",
            "+---------+-----------------+--------------------+---------+---------+------------+\n",
            "only showing top 10 rows\n",
            "\n"
          ]
        }
      ]
    },
    {
      "cell_type": "markdown",
      "source": [
        "# Question 7:\n",
        "## Is there a relationship between genres and average ratings?\n",
        "### Implementation:\n",
        "#### - select AvgRating and genres\n",
        "#### - group by genres and calculate averages for each\n",
        "#### - sort by highest to lowest rating for each genre"
      ],
      "metadata": {
        "id": "xNf9lt6EfpY8"
      }
    },
    {
      "cell_type": "code",
      "source": [
        "import matplotlib.pyplot as plt\n",
        "from pyspark.sql.functions import col, when, count, lit, desc, expr\n",
        "\n",
        "\n",
        "film_info = [\"AvgRating\", \"`genre.1`\", \"`genre.2`\", \"`genre.3`\", \"`genre.4`\", \"`genre.5`\"]\n",
        "review_cols = [\"`half.star`\", \"`one.star`\", \"`one.half.star`\", \"`two.star`\", \"`two.half.star`\", \"`three.star`\", \"`three.half.star`\", \"`four.star`\",\"`four.half.star`\", \"`five.star`\"]\n",
        "total_reviews_expr = \" + \".join([f\"CAST({col} AS INT)\" for col in review_cols])\n",
        "\n",
        "top_films = df.select(review_cols + film_info)\n",
        "\n",
        "filtered_films = filtered_films.withColumn(\"AvgRating\", round(filtered_films[\"AvgRating\"], 4))\n",
        "\n",
        "all_avg = filtered_films.agg(avg(\"AvgRating\")).first()[0]\n",
        "\n",
        "stack_expr = \"stack(5, `genre.1`, `genre.2`, `genre.3`, `genre.4`, `genre.5`) as genre\"\n",
        "genres = filtered_films.selectExpr(\"*\", stack_expr).filter(col(\"genre\").isNotNull())\n",
        "\n",
        "genre_avgs = genres.groupBy(\"genre\").agg(round(avg(\"AvgRating\"), 4).alias(\"AverageGenreRating\"))\n",
        "\n",
        "print(\"\\nAverage Ratings by Genre:\")\n",
        "genre_avgs.orderBy(desc(\"AverageGenreRating\")).show()\n",
        "\n",
        "print(f\"Average Movie Rating on Letterboxd: {all_avg:.2f}\")\n",
        "\n",
        "\n",
        "pandas = genre_avgs.orderBy(desc(\"AverageGenreRating\")).toPandas()\n",
        "\n",
        "plt.figure(figsize=(20, 5))\n",
        "plt.bar(pandas['genre'], pandas['AverageGenreRating'])\n",
        "\n",
        "plt.xlabel('Genre')\n",
        "plt.ylabel('Average Rating')\n",
        "plt.title('Average Ratings by Genre')\n",
        "plt.show()"
      ],
      "metadata": {
        "colab": {
          "base_uri": "https://localhost:8080/",
          "height": 718
        },
        "id": "Vifq627jlsfe",
        "outputId": "403ff1f4-694c-445a-d40f-fcb644489d4f"
      },
      "execution_count": null,
      "outputs": [
        {
          "output_type": "stream",
          "name": "stdout",
          "text": [
            "\n",
            "Average Ratings by Genre:\n",
            "+---------------+------------------+\n",
            "|          genre|AverageGenreRating|\n",
            "+---------------+------------------+\n",
            "|    documentary|            4.1534|\n",
            "|            war|            3.6204|\n",
            "|        history|            3.5698|\n",
            "|          drama|            3.5559|\n",
            "|        western|             3.551|\n",
            "|          crime|            3.4294|\n",
            "|          music|             3.392|\n",
            "|      animation|            3.3562|\n",
            "|        mystery|            3.3319|\n",
            "|        romance|            3.3245|\n",
            "|       thriller|            3.2284|\n",
            "|         comedy|            3.1782|\n",
            "|        fantasy|            3.1355|\n",
            "|         family|            3.1156|\n",
            "|science-fiction|            3.1143|\n",
            "|         horror|            3.1085|\n",
            "|      adventure|            3.0965|\n",
            "|         action|            3.0846|\n",
            "|       tv-movie|            2.9874|\n",
            "+---------------+------------------+\n",
            "\n",
            "Average Movie Rating on Letterboxd: 3.31\n"
          ]
        },
        {
          "output_type": "display_data",
          "data": {
            "text/plain": [
              "<Figure size 2000x500 with 1 Axes>"
            ],
            "image/png": "[encoded data removed]"
          },
          "metadata": {}
        }
      ]
    },
    {
      "cell_type": "markdown",
      "source": [
        "# Question 8:\n",
        "## What is the correlation coefficient between Runtime and Average Rating?\n",
        "#### - select runtime and average rating\n",
        "#### - find and print the correlation coefficient between them"
      ],
      "metadata": {
        "id": "debL3W3hl5si"
      }
    },
    {
      "cell_type": "code",
      "source": [
        "from pyspark.sql.functions import col, when, count, lit, desc, expr, corr\n",
        "\n",
        "film_info = [\"`runtime`\", \"AvgRating\"]\n",
        "\n",
        "film_runtimes = df.select(film_info)\n",
        "\n",
        "correlation = film_runtimes.corr(\"`runtime`\", \"AvgRating\")\n",
        "print(f\"\\nCorrelation coefficient between Runtime and Average Rating: {correlation}\")\n"
      ],
      "metadata": {
        "colab": {
          "base_uri": "https://localhost:8080/"
        },
        "id": "aA3nBR6Hl5Yu",
        "outputId": "be9a9e8e-ea1c-48b9-f78f-702ddab9143f"
      },
      "execution_count": null,
      "outputs": [
        {
          "output_type": "stream",
          "name": "stdout",
          "text": [
            "\n",
            "Correlation coefficient between Runtime and Average Rating: 0.013110534660318812\n"
          ]
        }
      ]
    },
    {
      "cell_type": "markdown",
      "source": [
        "# Question 9:\n",
        "## What is the correlation coefficient between Total Reviews and Average Rating?\n",
        "#### - select review columns and average rating\n",
        "#### - find and print the correlation coefficient between them"
      ],
      "metadata": {
        "id": "oct1YnfenflU"
      }
    },
    {
      "cell_type": "code",
      "source": [
        "from pyspark.sql.functions import col, when, count, lit, desc, expr, corr\n",
        "\n",
        "film_info = [\"AvgRating\"]\n",
        "review_cols = [\"`half.star`\", \"`one.star`\", \"`one.half.star`\", \"`two.star`\", \"`two.half.star`\", \"`three.star`\", \"`three.half.star`\", \"`four.star`\",\"`four.half.star`\", \"`five.star`\"]\n",
        "total_reviews_expr = \" + \".join([f\"CAST({col} AS INT)\" for col in review_cols])\n",
        "\n",
        "film_reviews = df.select(review_cols + film_info)\n",
        "\n",
        "top_films = top_films.withColumn(\"TotalReviews\", expr(total_reviews_expr))\n",
        "avg_reviews = top_films.agg(avg(\"TotalReviews\")).first()[0]\n",
        "\n",
        "filtered_films = top_films.filter((top_films.AvgRating <= 5) & (top_films.TotalReviews > avg_reviews))\n",
        "filtered_films = filtered_films.withColumn(\"AvgRating\", round(filtered_films[\"AvgRating\"], 4))\n",
        "\n",
        "filtered_films = filtered_films.orderBy(desc(\"TotalReviews\"))\n",
        "\n",
        "correlation = top_films.corr(\"TotalReviews\", \"AvgRating\")\n",
        "print(f\"\\nCorrelation between Total Reviews and Average Rating: {correlation}\")\n"
      ],
      "metadata": {
        "colab": {
          "base_uri": "https://localhost:8080/"
        },
        "id": "loHMKDVwniet",
        "outputId": "fcf5040c-f7d7-4fad-dfd8-4a0ccb7eab25"
      },
      "execution_count": null,
      "outputs": [
        {
          "output_type": "stream",
          "name": "stdout",
          "text": [
            "\n",
            "Correlation between Total Reviews and Average Rating: -0.0019646949149140663\n"
          ]
        }
      ]
    },
    {
      "cell_type": "markdown",
      "source": [
        "# Question 10:\n",
        "## What is the correlation coefficient between Release Year and Average Rating?\n",
        "#### - select film.year and average rating\n",
        "#### - find and print the correlation coefficient between them"
      ],
      "metadata": {
        "id": "dQY0biXqns90"
      }
    },
    {
      "cell_type": "code",
      "source": [
        "from pyspark.sql.functions import col, when, count, lit, desc, expr, corr\n",
        "\n",
        "film_info = [\"`film.year`\", \"AvgRating\"]\n",
        "\n",
        "film_years = df.select(film_info)\n",
        "\n",
        "correlation = top_films.corr(\"`film.year`\", \"AvgRating\")\n",
        "print(f\"\\nCorrelation between Release Year and Average Rating: {correlation}\")\n"
      ],
      "metadata": {
        "colab": {
          "base_uri": "https://localhost:8080/"
        },
        "id": "zfK0gtyontfT",
        "outputId": "4eaac53f-e533-4369-a54b-134cef87fc96"
      },
      "execution_count": null,
      "outputs": [
        {
          "output_type": "stream",
          "name": "stdout",
          "text": [
            "\n",
            "Correlation between Release Year and Average Rating: 0.0023812258925935996\n"
          ]
        }
      ]
    },
    {
      "cell_type": "markdown",
      "source": [
        "# Results:\n",
        "## Question 1:\n",
        "#### By looking at this data, it is clear that Parasite, the Korean drama film released in 2019 clearly outperforms all other films who have greater than average amounts of reviews. This is also evident later, when analyzing the top films across genres.\n",
        "\n",
        "## Question 2:\n",
        "#### In this analysis, it was concluded that, when comparing directors (with more reviews than average), and their average ratings, directors in the US consistently out-performed those in other countries.\n",
        "\n",
        "## Question 3:\n",
        "#### This pattern remain consistent when analyzing actors with the most movies containing average ratings of 3.5 or higher, with some few exceptions.\n",
        "\n",
        "## Question 4:\n",
        "#### I did not know which languages would have the most films on this platform, so for Question 5, I needed to see which languages were most common. I only selected films with the primary language, since English appeared in many films as a secondary language. By looking at this data, it is clear that English films make up the vast majority of films on this platform, which is not surprising, since this platform is only avaliable in English.\n",
        "\n",
        "## Question 5:\n",
        "#### Using the above data of top primary languages, I sorted the films based on primary languages for the top 5 languages, which were English, French, Japanese, Italian, and Spanish.\n",
        "\n",
        "## Question 6:\n",
        "#### Once again, it is clear that Parasite out-performs many other films, across all genres. Additionally, Christopher Nolan, the director of Oppenheimer, as well as Greta Gerwig, director of Barbie, both have films in the top 10 for Drama, Comedy, and Adventure.\n",
        "\n",
        "## Question 7:\n",
        "#### Most of the genres had average ratings of around average, which was 3.31. This is to be expected, since there weren't many outliers. The highest rated genre was Documentary, and the lowest-rated genre was TV Movies.\n",
        "\n",
        "## Questions 8-10:\n",
        "#### Based on the data, all the correlation coefficients had values close to 0, meaning that there was little data proving a correlation between Total Reviews, Runtime, and Release year with the Average Ratings. Therefore, we cannot conclude that these factors have a correlation with the Average Rating that a film will receive on Letterboxd.\n"
      ],
      "metadata": {
        "id": "KRwzcrNMXPoo"
      }
    },
    {
      "cell_type": "markdown",
      "source": [
        "# Conclusion:\n",
        "### In sum, Letterboxd has a huge variety of films, across all genres. The reviews are pretty consistent across many factors, such as genre, run time, year, and total reviews.\n",
        "\n",
        "### Additionally, in light of the recent SAG and WGA protests, it would be interesting to see the median pay for the cast and crew for the films, and compare it to the budget for each."
      ],
      "metadata": {
        "id": "6L4ZdK6AyZrm"
      }
    }
  ]
}